{
 "cells": [
  {
   "cell_type": "markdown",
   "metadata": {},
   "source": [
    "<center>\n",
    "    <img src=\"https://cf-courses-data.s3.us.cloud-object-storage.appdomain.cloud/IBMDeveloperSkillsNetwork-DS0105EN-SkillsNetwork/labs/Module2/images/SN_web_lightmode.png\" width=\"300\" alt=\"cognitiveclass.ai logo\">\n",
    "</center>\n"
   ]
  },
  {
   "cell_type": "markdown",
   "metadata": {},
   "source": [
    "# Tools for Data Science"
   ]
  },
  {
   "cell_type": "markdown",
   "metadata": {},
   "source": [
    "*Tools for data science refer to the various software, programming languages, and frameworks that are used by data scientists and analysts to collect, process, analyze, and visualize data. These tools allow users to extract insights and make data-driven decisions that can improve business operations and solve complex problems.*"
   ]
  },
  {
   "cell_type": "markdown",
   "metadata": {},
   "source": [
    "## Popular Data Science Languages\n",
    "\n",
    "If you're interested in data science, you'll need to learn at least one programming language. Here are some of the most popular languages used in data science:\n",
    "\n",
    "1. Python\n",
    "2. R\n",
    "3. SQL\n",
    "4. Java\n",
    "5. MATLAB"
   ]
  },
  {
   "cell_type": "markdown",
   "metadata": {},
   "source": [
    "## Popular Data Science Libraries\n",
    "\n",
    "Data science libraries are an essential part of any data scientist's toolkit. Here are some of the most popular libraries used in data science:\n",
    "\n",
    "1. NumPy\n",
    "2. Pandas\n",
    "3. Matplotlib\n",
    "4. Scikit-learn\n",
    "5. TensorFlow"
   ]
  },
  {
   "cell_type": "markdown",
   "metadata": {},
   "source": [
    "## Data Science Tools\n",
    "\n",
    "| Tool | Description |\n",
    "| --- | --- |\n",
    "| Python | A versatile programming language for data science. |\n",
    "| R | A programming language designed for statistical computing and graphics. |\n",
    "| SQL | A database management language for working with structured data. |\n",
    "| Jupyter Notebook | An interactive coding environment for data science. |\n",
    "| Tableau | A data visualization and business intelligence tool. |\n",
    "| Apache Hadoop | An open-source framework for distributed storage and processing of big data. |\n"
   ]
  },
  {
   "cell_type": "markdown",
   "metadata": {},
   "source": [
    "## Arithmetic Expression Examples\n",
    "\n",
    "Arithmetic expressions are mathematical expressions that use arithmetic operators such as addition, subtraction, multiplication, and division to evaluate numerical values. Here are some examples of arithmetic expressions:"
   ]
  },
  {
   "cell_type": "code",
   "execution_count": 9,
   "metadata": {},
   "outputs": [
    {
     "name": "stdout",
     "output_type": "stream",
     "text": [
      "The product of 5 and 10 is 50\n",
      "The sum of 5 and 10 is 15\n"
     ]
    }
   ],
   "source": [
    "a = 5\n",
    "b = 10\n",
    "c = a * b\n",
    "d = a + b\n",
    "print(\"The product of {} and {} is {}\".format(a, b, c))\n",
    "print(\"The sum of {} and {} is {}\".format(a, b, d))\n",
    "\n"
   ]
  },
  {
   "cell_type": "code",
   "execution_count": 10,
   "metadata": {},
   "outputs": [
    {
     "name": "stdout",
     "output_type": "stream",
     "text": [
      "150 minutes is equal to 2.5 hours\n"
     ]
    }
   ],
   "source": [
    "minutes = 150\n",
    "hours = minutes / 60\n",
    "print(\"{} minutes is equal to {} hours\".format(minutes, hours))\n"
   ]
  },
  {
   "cell_type": "markdown",
   "metadata": {},
   "source": [
    "## My Favorite Fruits\n",
    "\n",
    "I love all kinds of fruits! Here are some of my favorites:\n",
    "\n",
    "- Strawberries\n",
    "- Mangoes\n",
    "- Pineapples\n",
    "- Watermelons\n",
    "- Apples"
   ]
  },
  {
   "cell_type": "markdown",
   "metadata": {},
   "source": [
    "__*AUthor*: NGUYEN THI HUONG__"
   ]
  },
  {
   "cell_type": "markdown",
   "metadata": {},
   "source": [
    "### The following code tests the Gauss formula"
   ]
  },
  {
   "cell_type": "code",
   "execution_count": 14,
   "metadata": {},
   "outputs": [
    {
     "data": {
      "text/plain": [
       "True"
      ]
     },
     "execution_count": 14,
     "metadata": {},
     "output_type": "execute_result"
    }
   ],
   "source": [
    "def gauss(n):\n",
    "    return (n*(n+1))/2\n",
    "\n",
    "gauss(100) == sum(range(101))"
   ]
  },
  {
   "cell_type": "markdown",
   "metadata": {},
   "source": [
    "- one\n",
    "- two\n",
    "- three\n",
    "- one\n",
    "- two\n",
    "- three"
   ]
  },
  {
   "cell_type": "markdown",
   "metadata": {},
   "source": [
    "| Animal | Description | Image |\n",
    "| --- | --- | --- |\n",
    "| Dog | A furry mammal often kept as a pet. | ![Dog](https://www.google.com/search?q=dog&sxsrf=AJOqlzUDAj4TKDPRLRCgZz1fM-3_5bOHLg:1678504317047&source=lnms&tbm=isch&sa=X&ved=2ahUKEwjT9cjs89L9AhUM0GEKHdLfCPcQ_AUoAXoECAEQAw&biw=1280&bih=595&dpr=1.25#imgrc=M1gdx1TqeiwBWM) |\n",
    "| Cat | A small carnivorous mammal often kept as a pet. | ![Cat](https://www.google.com/search?q=cat&sxsrf=AJOqlzUYtXeX37hrzol6DaDs56932kzCLw:1678504351013&source=lnms&tbm=isch&sa=X&ved=2ahUKEwi07eH889L9AhXBUN4KHaO9BOoQ_AUoAXoECAEQAw&biw=1234&bih=602&dpr=1.25#imgrc=0V922RrJgQc9SM) |\n",
    "| Lion| A large carnivorous feline found in Africa. | ![Lion](https://www.google.com/search?q=lion&tbm=isch&ved=2ahUKEwioxYj-89L9AhViuFYBHcmYBvEQ2-cCegQIABAA&oq=lion&gs_lcp=CgNpbWcQAzIECAAQQzIFCAAQgAQyBQgAEIAEMgUIABCABDIFCAAQgAQyBQgAEIAEMgUIABCABDIFCAAQgAQyBQgAEIAEMgUIABCABDoECCMQJzoHCCMQ6gIQJ1DABViyEGDlFWgBcAB4AIABtAGIAe4GkgEDMi41mAEAoAEBqgELZ3dzLXdpei1pbWewAQrAAQE&sclient=img&ei=ofELZOjwLOLw2roPybGaiA8&bih=602&biw=1234#imgrc=A8CLjICQNBI9zM) |\n",
    "| Hyperlinks | Links to other web pages or resources. | [Google](https://www.google.com) |\n",
    "| Code/Syntax Highlighting | Highlights code or programming syntax. | `print(\"I LOVE YOU\")` |\n",
    "| Blocked Quotes | Indents and styles quoted text. | > Practice makes perfect |\n",
    "| Strikethrough | Puts a line through text. | ~~DELETE IT.~~ |"
   ]
  },
  {
   "cell_type": "code",
   "execution_count": null,
   "metadata": {},
   "outputs": [],
   "source": []
  }
 ],
 "metadata": {
  "kernelspec": {
   "display_name": "Python 3",
   "language": "python",
   "name": "python3"
  },
  "language_info": {
   "codemirror_mode": {
    "name": "ipython",
    "version": 3
   },
   "file_extension": ".py",
   "mimetype": "text/x-python",
   "name": "python",
   "nbconvert_exporter": "python",
   "pygments_lexer": "ipython3",
   "version": "3.8.8"
  }
 },
 "nbformat": 4,
 "nbformat_minor": 4
}
