{
 "cells": [
  {
   "cell_type": "markdown",
   "metadata": {
    "collapsed": true
   },
   "source": [
    "# My Jupyter Notebook on IBM Watson Studio"
   ]
  },
  {
   "cell_type": "markdown",
   "metadata": {},
   "source": [
    "**NGUYEN THI HUONG<br>\n",
    "DATA SCIENCE**"
   ]
  },
  {
   "cell_type": "markdown",
   "metadata": {},
   "source": [
    "*Data science is a crucial and rapidly growing field that combines statistical and computational methods to extract insights and knowledge from data. It involves a diverse range of techniques, including data preprocessing, data analysis, machine learning, and visualization, among others. The applications of data science are vast and varied, from business intelligence and marketing to healthcare and scientific research.*"
   ]
  },
  {
   "cell_type": "markdown",
   "metadata": {},
   "source": [
    "### The following code tests the Gauss formula"
   ]
  },
  {
   "cell_type": "code",
   "execution_count": 2,
   "metadata": {},
   "outputs": [
    {
     "data": {
      "text/plain": [
       "True"
      ]
     },
     "execution_count": 2,
     "metadata": {},
     "output_type": "execute_result"
    }
   ],
   "source": [
    "def gauss(n):\n",
    "    return (n*(n+1))/2\n",
    "\n",
    "gauss(100) == sum(range(101))"
   ]
  },
  {
   "cell_type": "markdown",
   "metadata": {},
   "source": [
    "- one\n",
    "- two\n",
    "- three\n",
    "- one\n",
    "- two\n",
    "- three"
   ]
  },
  {
   "cell_type": "markdown",
   "metadata": {},
   "source": [
    "| Animal | Description | Image |\n",
    "| --- | --- | --- |\n",
    "| Dog | A furry mammal often kept as a pet. | ![Dog](https://www.google.com/search?q=dog&sxsrf=AJOqlzUDAj4TKDPRLRCgZz1fM-3_5bOHLg:1678504317047&source=lnms&tbm=isch&sa=X&ved=2ahUKEwjT9cjs89L9AhUM0GEKHdLfCPcQ_AUoAXoECAEQAw&biw=1280&bih=595&dpr=1.25#imgrc=M1gdx1TqeiwBWM) |\n",
    "| Cat | A small carnivorous mammal often kept as a pet. | ![Cat](https://www.google.com/search?q=cat&sxsrf=AJOqlzUYtXeX37hrzol6DaDs56932kzCLw:1678504351013&source=lnms&tbm=isch&sa=X&ved=2ahUKEwi07eH889L9AhXBUN4KHaO9BOoQ_AUoAXoECAEQAw&biw=1234&bih=602&dpr=1.25#imgrc=0V922RrJgQc9SM) |\n",
    "| Lion| A large carnivorous feline found in Africa. | ![Lion](https://www.google.com/search?q=lion&tbm=isch&ved=2ahUKEwioxYj-89L9AhViuFYBHcmYBvEQ2-cCegQIABAA&oq=lion&gs_lcp=CgNpbWcQAzIECAAQQzIFCAAQgAQyBQgAEIAEMgUIABCABDIFCAAQgAQyBQgAEIAEMgUIABCABDIFCAAQgAQyBQgAEIAEMgUIABCABDoECCMQJzoHCCMQ6gIQJ1DABViyEGDlFWgBcAB4AIABtAGIAe4GkgEDMi41mAEAoAEBqgELZ3dzLXdpei1pbWewAQrAAQE&sclient=img&ei=ofELZOjwLOLw2roPybGaiA8&bih=602&biw=1234#imgrc=A8CLjICQNBI9zM) |\n",
    "| Hyperlinks | Links to other web pages or resources. | [Google](https://www.google.com) |\n",
    "| Code/Syntax Highlighting | Highlights code or programming syntax. | `print(\"I LOVE YOU\")` |\n",
    "| Blocked Quotes | Indents and styles quoted text. | > Practice makes perfect |\n",
    "| Strikethrough | Puts a line through text. | ~~DELETE IT.~~ |"
   ]
  }
 ],
 "metadata": {
  "kernelspec": {
   "display_name": "Python 3.10",
   "language": "python",
   "name": "python3"
  },
  "language_info": {
   "codemirror_mode": {
    "name": "ipython",
    "version": 3
   },
   "file_extension": ".py",
   "mimetype": "text/x-python",
   "name": "python",
   "nbconvert_exporter": "python",
   "pygments_lexer": "ipython3",
   "version": "3.10.9"
  }
 },
 "nbformat": 4,
 "nbformat_minor": 1
}
